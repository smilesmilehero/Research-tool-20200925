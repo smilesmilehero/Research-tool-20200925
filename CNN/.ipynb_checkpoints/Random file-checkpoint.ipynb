{
 "cells": [
  {
   "cell_type": "code",
   "execution_count": 3,
   "metadata": {},
   "outputs": [
    {
     "ename": "SyntaxError",
     "evalue": "EOL while scanning string literal (<ipython-input-3-34eb2f071b1b>, line 15)",
     "output_type": "error",
     "traceback": [
      "\u001b[1;36m  File \u001b[1;32m\"<ipython-input-3-34eb2f071b1b>\"\u001b[1;36m, line \u001b[1;32m15\u001b[0m\n\u001b[1;33m    fileDir = \"./wav/1/\u001b[0m\n\u001b[1;37m                       ^\u001b[0m\n\u001b[1;31mSyntaxError\u001b[0m\u001b[1;31m:\u001b[0m EOL while scanning string literal\n"
     ]
    }
   ],
   "source": [
    "import os, random, shutil\n",
    "\n",
    "def moveFile(fileDir):\n",
    "        pathDir = os.listdir(fileDir)    #取图片的原始路径\n",
    "        filenumber=len(pathDir)\n",
    "        rate=0.7    #自定义抽取图片的比例，比方说100张抽10张，那就是0.1\n",
    "        picknumber=int(filenumber*rate) #按照rate比例从文件夹中取一定数量图片\n",
    "        sample = random.sample(pathDir, picknumber)  #随机选取picknumber数量的样本图片\n",
    "        print (sample)\n",
    "        for name in sample:\n",
    "                shutil.move(fileDir+name, tarDir+name)\n",
    "        return\n",
    "\n",
    "if __name__ == '__main__':\n",
    "    fileDir = \"./wav/1/\n",
    "    tarDir = './train/'\n",
    "    moveFile(fileDir)\n",
    "    fileDir = \"./wav/2/\n",
    "    tarDir = './train/'\n",
    "    moveFile(fileDir)\n",
    "    fileDir = \"./wav/3/\n",
    "    tarDir = './train/'\n",
    "    moveFile(fileDir)\n",
    "    fileDir = \"./wav/4/\n",
    "    tarDir = './train/'\n",
    "    moveFile(fileDir)\n",
    "    fileDir = \"./wav/5/\n",
    "    tarDir = './train/'\n",
    "    moveFile(fileDir)\n",
    "    fileDir = \"./wav/6/\n",
    "    tarDir = './train/'\n",
    "    moveFile(fileDir)\n",
    "    fileDir = \"./wav/7/\n",
    "    tarDir = './train/'\n",
    "    moveFile(fileDir)\n",
    "    fileDir = \"./wav/8/\n",
    "    tarDir = './train/'\n",
    "    moveFile(fileDir)\n",
    "    fileDir = \"./wav/9/\n",
    "    tarDir = './train/'\n",
    "    moveFile(fileDir)\n",
    "    fileDir = \"./wav/10/\n",
    "    tarDir = './train/'\n",
    "    moveFile(fileDir)\n"
   ]
  },
  {
   "cell_type": "code",
   "execution_count": null,
   "metadata": {},
   "outputs": [],
   "source": []
  }
 ],
 "metadata": {
  "kernelspec": {
   "display_name": "Python 3",
   "language": "python",
   "name": "python3"
  },
  "language_info": {
   "codemirror_mode": {
    "name": "ipython",
    "version": 3
   },
   "file_extension": ".py",
   "mimetype": "text/x-python",
   "name": "python",
   "nbconvert_exporter": "python",
   "pygments_lexer": "ipython3",
   "version": "3.7.5"
  }
 },
 "nbformat": 4,
 "nbformat_minor": 2
}
