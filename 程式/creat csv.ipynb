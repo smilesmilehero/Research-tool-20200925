{
 "cells": [
  {
   "cell_type": "code",
   "execution_count": 1,
   "metadata": {},
   "outputs": [],
   "source": [
    "# import the necessary packages\n",
    "import librosa\n",
    "import librosa.display\n",
    "import pandas as pd\n",
    "import numpy as np\n",
    "#import glob\n",
    "from glob import glob\n",
    "import cv2\n",
    "import os\n",
    "import matplotlib.pyplot as plt\n",
    "%matplotlib inline\n",
    "from timeit import default_timer as timer\n"
   ]
  },
  {
   "cell_type": "code",
   "execution_count": 2,
   "metadata": {},
   "outputs": [],
   "source": [
    "def write_to_csv(csvName, dataDir):\n",
    "    with open(csvName,\"w\") as file:\n",
    "        file.write(\"ID,Class\\n\")\n",
    "        for fn in dataDir:\n",
    "            fileID  = fn.split('/')[-1].split('.')[0]\n",
    "            classID = fileID.split('-')[0]\n",
    "            file.write(str(fileID)+','+classID)\n",
    "            file.write('\\n')"
   ]
  },
  {
   "cell_type": "code",
   "execution_count": 3,
   "metadata": {},
   "outputs": [],
   "source": [
    "######### Making .csv files #############\n",
    "\n",
    "train_dir = np.array(glob(\"5-test/*\"))\n",
    "write_to_csv(\"5-test.csv\",train_dir)"
   ]
  },
  {
   "cell_type": "code",
   "execution_count": 4,
   "metadata": {},
   "outputs": [],
   "source": [
    "######### Making .csv files #############\n",
    "\n",
    "test_dir = np.array(glob(\"mix2-0db-test-mfc/*\"))\n",
    "write_to_csv(\"mix2-0db-test-mfc.csv\",test_dir)"
   ]
  },
  {
   "cell_type": "code",
   "execution_count": null,
   "metadata": {},
   "outputs": [],
   "source": []
  }
 ],
 "metadata": {
  "kernelspec": {
   "display_name": "Python 3",
   "language": "python",
   "name": "python3"
  },
  "language_info": {
   "codemirror_mode": {
    "name": "ipython",
    "version": 3
   },
   "file_extension": ".py",
   "mimetype": "text/x-python",
   "name": "python",
   "nbconvert_exporter": "python",
   "pygments_lexer": "ipython3",
   "version": "3.7.5"
  }
 },
 "nbformat": 4,
 "nbformat_minor": 2
}
