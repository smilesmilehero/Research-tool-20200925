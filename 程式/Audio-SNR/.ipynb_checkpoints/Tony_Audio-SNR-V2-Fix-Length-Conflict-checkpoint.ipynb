{
 "cells": [
  {
   "cell_type": "code",
   "execution_count": null,
   "metadata": {},
   "outputs": [],
   "source": [
    "##### THIS VERSION: FIXED THE LENGHT CONFLICT #######"
   ]
  },
  {
   "cell_type": "code",
   "execution_count": 1,
   "metadata": {},
   "outputs": [],
   "source": [
    "import argparse\n",
    "import array\n",
    "import math\n",
    "import numpy as np\n",
    "import random\n",
    "import wave"
   ]
  },
  {
   "cell_type": "code",
   "execution_count": 16,
   "metadata": {},
   "outputs": [],
   "source": [
    "def cal_adjusted_rms(clean_rms, snr):\n",
    "    a = float(snr) / 20\n",
    "    noise_rms = clean_rms / (10**a) \n",
    "    return noise_rms\n",
    "\n",
    "def cal_amp(wf):\n",
    "    buffer = wf.readframes(wf.getnframes())\n",
    "    # The dtype depends on the value of pulse-code modulation. The int16 is set for 16-bit PCM.\n",
    "    amptitude = (np.frombuffer(buffer, dtype=\"int16\")).astype(np.float64)\n",
    "    return amptitude\n",
    "\n",
    "def cal_rms(amp):\n",
    "    return np.sqrt(np.mean(np.square(amp), axis=-1))\n",
    "\n",
    "def save_waveform(output_path, params, amp):\n",
    "    output_file = wave.Wave_write(output_path)\n",
    "    output_file.setparams(params) #nchannels, sampwidth, framerate, nframes, comptype, compname\n",
    "    output_file.writeframes(array.array('h', amp.astype(np.int16)).tobytes() )\n",
    "    output_file.close()"
   ]
  },
  {
   "cell_type": "code",
   "execution_count": 58,
   "metadata": {},
   "outputs": [],
   "source": [
    "def mix_func(clean_file, noise_file, output_dir, snr):\n",
    "    \n",
    "    clean_wav = wave.open(clean_file, \"r\")\n",
    "    noise_wav = wave.open(noise_file, \"r\")\n",
    "    \n",
    "    clean_amp = cal_amp(clean_wav)\n",
    "    print(clean_amp.shape)\n",
    "    noise_amp = cal_amp(noise_wav)\n",
    "    print(noise_amp.shape)\n",
    "\n",
    "    clean_rms = cal_rms(clean_amp)\n",
    "    \n",
    "    ###### FIXE THE DIFFERENT IN LENGHTS BETWEEN TWO FILES ########\n",
    "    \n",
    "    start = random.randint(0, len(noise_amp)-len(clean_amp))\n",
    "    divided_noise_amp = noise_amp[start: start + len(clean_amp)]\n",
    "    noise_rms = cal_rms(divided_noise_amp)\n",
    "\n",
    "    adjusted_noise_rms = cal_adjusted_rms(clean_rms, snr)\n",
    "    \n",
    "    adjusted_noise_amp = divided_noise_amp * (adjusted_noise_rms / noise_rms) \n",
    "    mixed_amp = (clean_amp + adjusted_noise_amp)\n",
    "\n",
    "    #Avoid clipping noise\n",
    "    max_int16 = np.iinfo(np.int16).max\n",
    "    min_int16 = np.iinfo(np.int16).min\n",
    "    if mixed_amp.max(axis=0) > max_int16 or mixed_amp.min(axis=0) < min_int16:\n",
    "        if mixed_amp.max(axis=0) >= abs(mixed_amp.min(axis=0)): \n",
    "            reduction_rate = max_int16 / mixed_amp.max(axis=0)\n",
    "        else :\n",
    "            reduction_rate = min_int16 / mixed_amp.min(axis=0)\n",
    "        mixed_amp = mixed_amp * (reduction_rate)\n",
    "        clean_amp = clean_amp * (reduction_rate)\n",
    "    \n",
    "    ##### YOU CAN Define the NAME of output file HERE\" ######\n",
    "    output_mixed_fname = \"Mix_\" + str(snr) + \"dB\" + \".wav\"\n",
    "    output_mixed_write_dir = output_dir + output_mixed_fname\n",
    "    #print(output_mixed_write_dir)\n",
    "    \n",
    "    save_waveform(output_mixed_write_dir, clean_wav.getparams(), mixed_amp)\n"
   ]
  },
  {
   "cell_type": "code",
   "execution_count": 61,
   "metadata": {},
   "outputs": [
    {
     "name": "stdout",
     "output_type": "stream",
     "text": [
      "(30723,)\n",
      "(28177,)\n"
     ]
    },
    {
     "ename": "ValueError",
     "evalue": "empty range for randrange() (0,-2545, -2545)",
     "output_type": "error",
     "traceback": [
      "\u001b[1;31m---------------------------------------------------------------------------\u001b[0m",
      "\u001b[1;31mValueError\u001b[0m                                Traceback (most recent call last)",
      "\u001b[1;32m<ipython-input-61-be150691244b>\u001b[0m in \u001b[0;36m<module>\u001b[1;34m\u001b[0m\n\u001b[0;32m      1\u001b[0m \u001b[0moutput_directory\u001b[0m \u001b[1;33m=\u001b[0m \u001b[1;34m\"OutPut/\"\u001b[0m\u001b[1;33m\u001b[0m\u001b[1;33m\u001b[0m\u001b[0m\n\u001b[0;32m      2\u001b[0m \u001b[1;33m\u001b[0m\u001b[0m\n\u001b[1;32m----> 3\u001b[1;33m \u001b[0mmix_func\u001b[0m\u001b[1;33m(\u001b[0m\u001b[1;34m\"1-1.wav\"\u001b[0m\u001b[1;33m,\u001b[0m \u001b[1;34m\"2-2.wav\"\u001b[0m\u001b[1;33m,\u001b[0m \u001b[0moutput_directory\u001b[0m\u001b[1;33m,\u001b[0m \u001b[1;36m5\u001b[0m\u001b[1;33m)\u001b[0m\u001b[1;33m\u001b[0m\u001b[1;33m\u001b[0m\u001b[0m\n\u001b[0m",
      "\u001b[1;32m<ipython-input-58-da7949466ff9>\u001b[0m in \u001b[0;36mmix_func\u001b[1;34m(clean_file, noise_file, output_dir, snr)\u001b[0m\n\u001b[0;32m     11\u001b[0m     \u001b[0mclean_rms\u001b[0m \u001b[1;33m=\u001b[0m \u001b[0mcal_rms\u001b[0m\u001b[1;33m(\u001b[0m\u001b[0mclean_amp\u001b[0m\u001b[1;33m)\u001b[0m\u001b[1;33m\u001b[0m\u001b[1;33m\u001b[0m\u001b[0m\n\u001b[0;32m     12\u001b[0m \u001b[1;33m\u001b[0m\u001b[0m\n\u001b[1;32m---> 13\u001b[1;33m     \u001b[0mstart\u001b[0m \u001b[1;33m=\u001b[0m \u001b[0mrandom\u001b[0m\u001b[1;33m.\u001b[0m\u001b[0mrandint\u001b[0m\u001b[1;33m(\u001b[0m\u001b[1;36m0\u001b[0m\u001b[1;33m,\u001b[0m \u001b[0mlen\u001b[0m\u001b[1;33m(\u001b[0m\u001b[0mnoise_amp\u001b[0m\u001b[1;33m)\u001b[0m\u001b[1;33m-\u001b[0m\u001b[0mlen\u001b[0m\u001b[1;33m(\u001b[0m\u001b[0mclean_amp\u001b[0m\u001b[1;33m)\u001b[0m\u001b[1;33m)\u001b[0m\u001b[1;33m\u001b[0m\u001b[1;33m\u001b[0m\u001b[0m\n\u001b[0m\u001b[0;32m     14\u001b[0m     \u001b[0mdivided_noise_amp\u001b[0m \u001b[1;33m=\u001b[0m \u001b[0mnoise_amp\u001b[0m\u001b[1;33m[\u001b[0m\u001b[0mstart\u001b[0m\u001b[1;33m:\u001b[0m \u001b[0mstart\u001b[0m \u001b[1;33m+\u001b[0m \u001b[0mlen\u001b[0m\u001b[1;33m(\u001b[0m\u001b[0mclean_amp\u001b[0m\u001b[1;33m)\u001b[0m\u001b[1;33m]\u001b[0m\u001b[1;33m\u001b[0m\u001b[1;33m\u001b[0m\u001b[0m\n\u001b[0;32m     15\u001b[0m     \u001b[0mnoise_rms\u001b[0m \u001b[1;33m=\u001b[0m \u001b[0mcal_rms\u001b[0m\u001b[1;33m(\u001b[0m\u001b[0mdivided_noise_amp\u001b[0m\u001b[1;33m)\u001b[0m\u001b[1;33m\u001b[0m\u001b[1;33m\u001b[0m\u001b[0m\n",
      "\u001b[1;32mc:\\users\\tony tran\\anaconda3\\envs\\msp-dl\\lib\\random.py\u001b[0m in \u001b[0;36mrandint\u001b[1;34m(self, a, b)\u001b[0m\n\u001b[0;32m    219\u001b[0m         \"\"\"\n\u001b[0;32m    220\u001b[0m \u001b[1;33m\u001b[0m\u001b[0m\n\u001b[1;32m--> 221\u001b[1;33m         \u001b[1;32mreturn\u001b[0m \u001b[0mself\u001b[0m\u001b[1;33m.\u001b[0m\u001b[0mrandrange\u001b[0m\u001b[1;33m(\u001b[0m\u001b[0ma\u001b[0m\u001b[1;33m,\u001b[0m \u001b[0mb\u001b[0m\u001b[1;33m+\u001b[0m\u001b[1;36m1\u001b[0m\u001b[1;33m)\u001b[0m\u001b[1;33m\u001b[0m\u001b[1;33m\u001b[0m\u001b[0m\n\u001b[0m\u001b[0;32m    222\u001b[0m \u001b[1;33m\u001b[0m\u001b[0m\n\u001b[0;32m    223\u001b[0m     def _randbelow(self, n, int=int, maxsize=1<<BPF, type=type,\n",
      "\u001b[1;32mc:\\users\\tony tran\\anaconda3\\envs\\msp-dl\\lib\\random.py\u001b[0m in \u001b[0;36mrandrange\u001b[1;34m(self, start, stop, step, _int)\u001b[0m\n\u001b[0;32m    197\u001b[0m             \u001b[1;32mreturn\u001b[0m \u001b[0mistart\u001b[0m \u001b[1;33m+\u001b[0m \u001b[0mself\u001b[0m\u001b[1;33m.\u001b[0m\u001b[0m_randbelow\u001b[0m\u001b[1;33m(\u001b[0m\u001b[0mwidth\u001b[0m\u001b[1;33m)\u001b[0m\u001b[1;33m\u001b[0m\u001b[1;33m\u001b[0m\u001b[0m\n\u001b[0;32m    198\u001b[0m         \u001b[1;32mif\u001b[0m \u001b[0mstep\u001b[0m \u001b[1;33m==\u001b[0m \u001b[1;36m1\u001b[0m\u001b[1;33m:\u001b[0m\u001b[1;33m\u001b[0m\u001b[1;33m\u001b[0m\u001b[0m\n\u001b[1;32m--> 199\u001b[1;33m             \u001b[1;32mraise\u001b[0m \u001b[0mValueError\u001b[0m\u001b[1;33m(\u001b[0m\u001b[1;34m\"empty range for randrange() (%d,%d, %d)\"\u001b[0m \u001b[1;33m%\u001b[0m \u001b[1;33m(\u001b[0m\u001b[0mistart\u001b[0m\u001b[1;33m,\u001b[0m \u001b[0mistop\u001b[0m\u001b[1;33m,\u001b[0m \u001b[0mwidth\u001b[0m\u001b[1;33m)\u001b[0m\u001b[1;33m)\u001b[0m\u001b[1;33m\u001b[0m\u001b[1;33m\u001b[0m\u001b[0m\n\u001b[0m\u001b[0;32m    200\u001b[0m \u001b[1;33m\u001b[0m\u001b[0m\n\u001b[0;32m    201\u001b[0m         \u001b[1;31m# Non-unit step argument supplied.\u001b[0m\u001b[1;33m\u001b[0m\u001b[1;33m\u001b[0m\u001b[1;33m\u001b[0m\u001b[0m\n",
      "\u001b[1;31mValueError\u001b[0m: empty range for randrange() (0,-2545, -2545)"
     ]
    }
   ],
   "source": [
    "output_directory = \"OutPut/\"\n",
    "\n",
    "mix_func(\"1-1.wav\", \"2-2.wav\", output_directory, 5)"
   ]
  },
  {
   "cell_type": "code",
   "execution_count": null,
   "metadata": {},
   "outputs": [],
   "source": []
  }
 ],
 "metadata": {
  "kernelspec": {
   "display_name": "Python 3",
   "language": "python",
   "name": "python3"
  },
  "language_info": {
   "codemirror_mode": {
    "name": "ipython",
    "version": 3
   },
   "file_extension": ".py",
   "mimetype": "text/x-python",
   "name": "python",
   "nbconvert_exporter": "python",
   "pygments_lexer": "ipython3",
   "version": "3.6.8"
  }
 },
 "nbformat": 4,
 "nbformat_minor": 2
}
