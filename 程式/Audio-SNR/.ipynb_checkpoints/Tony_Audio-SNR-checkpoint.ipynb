{
 "cells": [
  {
   "cell_type": "code",
   "execution_count": 1,
   "metadata": {},
   "outputs": [],
   "source": [
    "import argparse\n",
    "import array\n",
    "import math\n",
    "import numpy as np\n",
    "import random\n",
    "import wave"
   ]
  },
  {
   "cell_type": "code",
   "execution_count": 13,
   "metadata": {},
   "outputs": [
    {
     "ename": "SyntaxError",
     "evalue": "non-default argument follows default argument (<ipython-input-13-0b669644e026>, line 16)",
     "output_type": "error",
     "traceback": [
      "\u001b[1;36m  File \u001b[1;32m\"<ipython-input-13-0b669644e026>\"\u001b[1;36m, line \u001b[1;32m16\u001b[0m\n\u001b[1;33m    def save_waveform(output_path = \"OUT\", params, amp):\u001b[0m\n\u001b[1;37m                     ^\u001b[0m\n\u001b[1;31mSyntaxError\u001b[0m\u001b[1;31m:\u001b[0m non-default argument follows default argument\n"
     ]
    }
   ],
   "source": [
    "def cal_adjusted_rms(clean_rms, snr):\n",
    "    a = float(snr) / 20\n",
    "    noise_rms = clean_rms / (10**a) \n",
    "    return noise_rms\n",
    "\n",
    "def cal_amp(wf):\n",
    "    buffer = wf.readframes(wf.getnframes())\n",
    "    # The dtype depends on the value of pulse-code modulation. The int16 is set for 16-bit PCM.\n",
    "    amptitude = (np.frombuffer(buffer, dtype=\"int16\")).astype(np.float64)\n",
    "    return amptitude\n",
    "\n",
    "def cal_rms(amp):\n",
    "    return np.sqrt(np.mean(np.square(amp), axis=-1))\n",
    "\n",
    "def save_waveform(output_path, params, amp):\n",
    "    output_file = wave.Wave_write(output_path)\n",
    "    output_file.setparams(params) #nchannels, sampwidth, framerate, nframes, comptype, compname\n",
    "    output_file.writeframes(array.array('h', amp.astype(np.int16)).tobytes() )\n",
    "    output_file.close()"
   ]
  },
  {
   "cell_type": "code",
   "execution_count": 7,
   "metadata": {},
   "outputs": [],
   "source": [
    "def mix_func(clean_file, noise_file, output_mixed_file, snr):\n",
    "    \n",
    "    clean_wav = wave.open(clean_file, \"r\")\n",
    "    noise_wav = wave.open(noise_file, \"r\")\n",
    "\n",
    "    clean_amp = cal_amp(clean_wav)\n",
    "    noise_amp = cal_amp(noise_wav)\n",
    "\n",
    "    clean_rms = cal_rms(clean_amp)\n",
    "\n",
    "    start = random.randint(0, len(noise_amp)-len(clean_amp))\n",
    "    divided_noise_amp = noise_amp[start: start + len(clean_amp)]\n",
    "    noise_rms = cal_rms(divided_noise_amp)\n",
    "\n",
    "    adjusted_noise_rms = cal_adjusted_rms(clean_rms, snr)\n",
    "    \n",
    "    adjusted_noise_amp = divided_noise_amp * (adjusted_noise_rms / noise_rms) \n",
    "    mixed_amp = (clean_amp + adjusted_noise_amp)\n",
    "\n",
    "    #Avoid clipping noise\n",
    "    max_int16 = np.iinfo(np.int16).max\n",
    "    min_int16 = np.iinfo(np.int16).min\n",
    "    if mixed_amp.max(axis=0) > max_int16 or mixed_amp.min(axis=0) < min_int16:\n",
    "        if mixed_amp.max(axis=0) >= abs(mixed_amp.min(axis=0)): \n",
    "            reduction_rate = max_int16 / mixed_amp.max(axis=0)\n",
    "        else :\n",
    "            reduction_rate = min_int16 / mixed_amp.min(axis=0)\n",
    "        mixed_amp = mixed_amp * (reduction_rate)\n",
    "        clean_amp = clean_amp * (reduction_rate)\n",
    "\n",
    "    save_waveform(output_mixed_file, clean_wav.getparams(), mixed_amp)\n"
   ]
  },
  {
   "cell_type": "code",
   "execution_count": 12,
   "metadata": {},
   "outputs": [],
   "source": [
    "mix_func(\"source.wav\", \"noise.wav\", \"output_mixed_file.wav\", -10)"
   ]
  },
  {
   "cell_type": "code",
   "execution_count": null,
   "metadata": {},
   "outputs": [],
   "source": []
  }
 ],
 "metadata": {
  "kernelspec": {
   "display_name": "Python 3",
   "language": "python",
   "name": "python3"
  },
  "language_info": {
   "codemirror_mode": {
    "name": "ipython",
    "version": 3
   },
   "file_extension": ".py",
   "mimetype": "text/x-python",
   "name": "python",
   "nbconvert_exporter": "python",
   "pygments_lexer": "ipython3",
   "version": "3.6.8"
  }
 },
 "nbformat": 4,
 "nbformat_minor": 2
}
