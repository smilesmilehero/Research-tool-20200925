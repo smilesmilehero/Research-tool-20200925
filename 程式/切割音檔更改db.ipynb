{
 "cells": [
  {
   "cell_type": "code",
   "execution_count": 3,
   "metadata": {},
   "outputs": [],
   "source": [
    "from pydub import AudioSegment\n",
    "import os, re\n",
    "\n",
    "# 循环目录下所有文件\n",
    "for each in os.listdir(r\"C:\\Users\\Leo\\Desktop\\切割音檔\"):\n",
    "    filename = re.findall(r\"(.*?).wav\", each) # 取出.mp3后缀的文件名\n",
    "    if filename:\n",
    "    \n",
    "        filename[0] += '.wav'\n",
    "        mp3 = AudioSegment.from_mp3(filename[0]) # 打开mp3文件\n",
    "        mp3[-1*1000  :].export(filename[0]+'3s.wav', format=\"wav\") #\n"
   ]
  },
  {
   "cell_type": "code",
   "execution_count": 2,
   "metadata": {},
   "outputs": [
    {
     "ename": "SyntaxError",
     "evalue": "EOL while scanning string literal (<ipython-input-2-b2da20d554a6>, line 5)",
     "output_type": "error",
     "traceback": [
      "\u001b[1;36m  File \u001b[1;32m\"<ipython-input-2-b2da20d554a6>\"\u001b[1;36m, line \u001b[1;32m5\u001b[0m\n\u001b[1;33m    os.listdir(r'C:\\Users\\Leo\\Desktop\\切割音檔\\')\u001b[0m\n\u001b[1;37m                                             ^\u001b[0m\n\u001b[1;31mSyntaxError\u001b[0m\u001b[1;31m:\u001b[0m EOL while scanning string literal\n"
     ]
    }
   ],
   "source": [
    "from pydub import AudioSegment\n",
    "from pydub.utils import make_chunks\n",
    "import os\n",
    "\n",
    "os.listdir(r'C:\\Users\\Leo\\Desktop\\切割音檔\\')\n",
    "    \n",
    "#myaudio = AudioSegment.from_file(os.listdir)\n",
    "myaudio = os.listdir\n",
    "#myaudio = AudioSegment.from_file(\"1-1.wav\" , \"wav\") \n",
    "chunk_length_ms = 5000 # 分块的毫秒数\n",
    "chunks = make_chunks(myaudio, chunk_length_ms) #将文件切割成1秒每块\n",
    " \n",
    "#保存切割的音频到文件\n",
    " \n",
    "for k, chunk in enumerate(chunks):\n",
    "    chunk_name = \"chunk{0}.wav\".format(i)\n",
    "#    chunk_name = \"1.wav\".format(k)\n",
    "    chunk_name = mix.format(k)\n",
    "    print( 'exporting', chunk_name)\n",
    "    chunk.export(chunk_name, format=\"wav\")"
   ]
  },
  {
   "cell_type": "code",
   "execution_count": 1,
   "metadata": {},
   "outputs": [
    {
     "ename": "FileNotFoundError",
     "evalue": "[WinError 3] 系統找不到指定的路徑。: '..\\\\test'",
     "output_type": "error",
     "traceback": [
      "\u001b[1;31m---------------------------------------------------------------------------\u001b[0m",
      "\u001b[1;31mFileNotFoundError\u001b[0m                         Traceback (most recent call last)",
      "\u001b[1;32m<ipython-input-1-e69e1cabd56f>\u001b[0m in \u001b[0;36m<module>\u001b[1;34m\u001b[0m\n\u001b[0;32m     10\u001b[0m \u001b[1;33m\u001b[0m\u001b[0m\n\u001b[0;32m     11\u001b[0m \u001b[0mpath\u001b[0m \u001b[1;33m=\u001b[0m \u001b[1;34mr\"..\\test\"\u001b[0m\u001b[1;33m\u001b[0m\u001b[1;33m\u001b[0m\u001b[0m\n\u001b[1;32m---> 12\u001b[1;33m \u001b[0mfiles\u001b[0m \u001b[1;33m=\u001b[0m \u001b[0mos\u001b[0m\u001b[1;33m.\u001b[0m\u001b[0mlistdir\u001b[0m\u001b[1;33m(\u001b[0m\u001b[0mpath\u001b[0m\u001b[1;33m)\u001b[0m\u001b[1;33m\u001b[0m\u001b[1;33m\u001b[0m\u001b[0m\n\u001b[0m\u001b[0;32m     13\u001b[0m \u001b[0mfiles\u001b[0m \u001b[1;33m=\u001b[0m \u001b[1;33m[\u001b[0m\u001b[0mpath\u001b[0m \u001b[1;33m+\u001b[0m \u001b[1;34m\"\\\\\"\u001b[0m \u001b[1;33m+\u001b[0m \u001b[0mf\u001b[0m \u001b[1;32mfor\u001b[0m \u001b[0mf\u001b[0m \u001b[1;32min\u001b[0m \u001b[0mfiles\u001b[0m \u001b[1;32mif\u001b[0m \u001b[0mf\u001b[0m\u001b[1;33m.\u001b[0m\u001b[0mendswith\u001b[0m\u001b[1;33m(\u001b[0m\u001b[1;34m'.wav'\u001b[0m\u001b[1;33m)\u001b[0m\u001b[1;33m]\u001b[0m\u001b[1;33m\u001b[0m\u001b[1;33m\u001b[0m\u001b[0m\n\u001b[0;32m     14\u001b[0m \u001b[1;33m\u001b[0m\u001b[0m\n",
      "\u001b[1;31mFileNotFoundError\u001b[0m: [WinError 3] 系統找不到指定的路徑。: '..\\\\test'"
     ]
    }
   ],
   "source": [
    "#coding=gbk\n",
    "import os\n",
    "import wave\n",
    "import numpy as np\n",
    "import pylab as plt\n",
    "\n",
    "CutTimeDef = 1 #以1s截斷檔案\n",
    "# CutFrameNum =0\n",
    "\n",
    "\n",
    "path = r\"..\\test\"\n",
    "files = os.listdir(path)\n",
    "files = [path + \"\\\\\" + f for f in files if f.endswith('.wav')]\n",
    "\n",
    "def SetFileName(WavFileName):\n",
    "    for i in range(len(files)):\n",
    "        FileName = files[i]\n",
    "        print(\"SetFileName File Name is \", FileName)\n",
    "        FileName = WavFileName;\n",
    "\n",
    "def CutFile():\n",
    "    for i in range(len(files)):\n",
    "        FileName = files[i]\n",
    "        print(\"CutFile File Name is \",FileName)\n",
    "        f = wave.open(r\"\" + FileName, \"rb\")\n",
    "        params = f.getparams()\n",
    "        print(params)\n",
    "        nchannels, sampwidth, framerate, nframes = params[:4]\n",
    "        CutFrameNum = framerate * CutTimeDef\n",
    "         # 讀取格式資訊\n",
    "         # 一次性返回所有的WAV檔案的格式資訊，它返回的是一個組元(tuple)：聲道數, 量化位數（byte    單位）, 採\n",
    "         # 樣頻率, 取樣點數, 壓縮型別, 壓縮型別的描述。wave模組只支援非壓縮的資料，因此可以忽略最後兩個資訊\n",
    "\n",
    "        print(\"CutFrameNum=%d\" % (CutFrameNum))\n",
    "        print(\"nchannels=%d\" % (nchannels))\n",
    "        print(\"sampwidth=%d\" % (sampwidth))\n",
    "        print(\"framerate=%d\" % (framerate))\n",
    "        print(\"nframes=%d\" % (nframes))\n",
    "        str_data = f.readframes(nframes)\n",
    "        f.close()# 將波形資料轉換成陣列\n",
    "        # Cutnum =nframes/framerate/CutTimeDef\n",
    "        # 需要根據聲道數和量化單位，將讀取的二進位制資料轉換為一個可以計算的陣列\n",
    "        wave_data = np.fromstring(str_data, dtype=np.short)\n",
    "        wave_data.shape = -1, 2\n",
    "        wave_data = wave_data.T\n",
    "        temp_data = wave_data.T\n",
    "        # StepNum = int(nframes/200)\n",
    "        StepNum = CutFrameNum\n",
    "        StepTotalNum = 0;\n",
    "        haha = 0\n",
    "        while StepTotalNum < nframes:\n",
    "        # for j in range(int(Cutnum)):\n",
    "            print(\"Stemp=%d\" % (haha))\n",
    "            FileName = \"..\\\\testcutresults\\\\\" + files[i][-17:-4] +\"-\"+ str(haha+1) + \".wav\"\n",
    "            print(FileName)\n",
    "            temp_dataTemp = temp_data[StepNum * (haha):StepNum * (haha + 1)]\n",
    "            haha = haha + 1;\n",
    "            StepTotalNum = haha * StepNum;\n",
    "            temp_dataTemp.shape = 1, -1\n",
    "            temp_dataTemp = temp_dataTemp.astype(np.short)# 開啟WAV文件\n",
    "            f = wave.open(FileName, \"wb\")#\n",
    "            # 配置聲道數、量化位數和取樣頻率\n",
    "            f.setnchannels(nchannels)\n",
    "            f.setsampwidth(sampwidth)\n",
    "            f.setframerate(framerate)\n",
    "             # 將wav_data轉換為二進位制資料寫入檔案\n",
    "            f.writeframes(temp_dataTemp.tostring())\n",
    "            f.close()\n",
    "\n",
    "if __name__ == '__main__' :\n",
    "    CutFile()\n",
    "\n",
    "\n",
    "    print(\"Run Over\")"
   ]
  },
  {
   "cell_type": "code",
   "execution_count": 32,
   "metadata": {},
   "outputs": [],
   "source": [
    "import os\n",
    "\n",
    "i=0\n",
    "for file in os.listdir(\"/Users/Leo/Desktop/切割音檔/1\"):\n",
    "    if file.endswith(\".product\"):\n",
    "        f = open(file, 'r')\n",
    "        documents[i]=f.read()\n",
    "        documentsId[i]=file\n",
    "        f.close()\n",
    "        i=i+1"
   ]
  },
  {
   "cell_type": "code",
   "execution_count": 4,
   "metadata": {},
   "outputs": [
    {
     "ename": "SyntaxError",
     "evalue": "EOL while scanning string literal (<ipython-input-4-d567033be488>, line 3)",
     "output_type": "error",
     "traceback": [
      "\u001b[1;36m  File \u001b[1;32m\"<ipython-input-4-d567033be488>\"\u001b[1;36m, line \u001b[1;32m3\u001b[0m\n\u001b[1;33m    os.listdir(r'C:\\Users\\Leo\\Desktop\\切割音檔\\')\u001b[0m\n\u001b[1;37m                                             ^\u001b[0m\n\u001b[1;31mSyntaxError\u001b[0m\u001b[1;31m:\u001b[0m EOL while scanning string literal\n"
     ]
    }
   ],
   "source": [
    "import os\n",
    "\n",
    "os.listdir(r'C:\\Users\\Leo\\Desktop\\切割音檔\\')"
   ]
  },
  {
   "cell_type": "code",
   "execution_count": 41,
   "metadata": {},
   "outputs": [
    {
     "ename": "SyntaxError",
     "evalue": "invalid syntax (<ipython-input-41-c56e3d12d748>, line 2)",
     "output_type": "error",
     "traceback": [
      "\u001b[1;36m  File \u001b[1;32m\"<ipython-input-41-c56e3d12d748>\"\u001b[1;36m, line \u001b[1;32m2\u001b[0m\n\u001b[1;33m    domain = os.path.abspath(r'C:\\Users\\Leo\\Desktop\\切割音檔\\1'):\u001b[0m\n\u001b[1;37m                                                            ^\u001b[0m\n\u001b[1;31mSyntaxError\u001b[0m\u001b[1;31m:\u001b[0m invalid syntax\n"
     ]
    }
   ],
   "source": [
    "for info in os.listdir(r'C:\\Users\\Leo\\Desktop\\切割音檔\\1'):\n",
    "    domain = os.path.abspath(r'C:\\Users\\Leo\\Desktop\\切割音檔\\1'): \n",
    "    info = os.path.join(domain,info) #將路徑與檔名結合起來就是每個檔案的完整路徑\n",
    "    info = open(info,'r') #讀取檔案內容\n",
    "    print(info.readline()) #使用readline函式得到一條一條的資訊，如果使用read獲取全部資訊亦可；\n",
    "    info.close()"
   ]
  },
  {
   "cell_type": "code",
   "execution_count": 3,
   "metadata": {},
   "outputs": [
    {
     "ename": "IndentationError",
     "evalue": "expected an indented block (<ipython-input-3-ad00d25e8159>, line 5)",
     "output_type": "error",
     "traceback": [
      "\u001b[1;36m  File \u001b[1;32m\"<ipython-input-3-ad00d25e8159>\"\u001b[1;36m, line \u001b[1;32m5\u001b[0m\n\u001b[1;33m    filename = re.findall(r\"(.*?)\\.wav\", each) # 取出.mp3字尾的檔名\u001b[0m\n\u001b[1;37m           ^\u001b[0m\n\u001b[1;31mIndentationError\u001b[0m\u001b[1;31m:\u001b[0m expected an indented block\n"
     ]
    }
   ],
   "source": [
    "from pydub import AudioSegment\n",
    "import os, re\n",
    "# 迴圈目錄下所有檔案\n",
    "for each in os.listdir(r'C:/Users/Leo/Desktop/切割音檔/1'):\n",
    "filename = re.findall(r\"(.*?)\\.wav\", each) # 取出.mp3字尾的檔名\n",
    "#filename = re.findall(r\".wav\", each)\n",
    "if filename:\n",
    "filename[0]  = '.wav'\n",
    "mp3 = AudioSegment.from_mp3(filename[0]) # 開啟mp3檔案\n",
    "mp3[-0.3*1000 :].export(filename[0], format=\"wav\") # 切割前17.5秒並覆蓋儲存"
   ]
  },
  {
   "cell_type": "code",
   "execution_count": 5,
   "metadata": {},
   "outputs": [
    {
     "name": "stdout",
     "output_type": "stream",
     "text": [
      "exporting 2-0.wav\n",
      "exporting 2-1.wav\n",
      "exporting 2-2.wav\n",
      "exporting 2-3.wav\n",
      "exporting 2-4.wav\n",
      "exporting 2-5.wav\n",
      "exporting 2-6.wav\n",
      "exporting 2-7.wav\n",
      "exporting 2-8.wav\n",
      "exporting 2-9.wav\n",
      "exporting 2-10.wav\n"
     ]
    }
   ],
   "source": [
    "from pydub import AudioSegment\n",
    "from pydub.utils import make_chunks\n",
    " \n",
    "myaudio = AudioSegment.from_file(\"1-4.wav\" , \"wav\") \n",
    "chunk_length_ms = 5000 # 分块的毫秒数\n",
    "chunks = make_chunks(myaudio, chunk_length_ms) #将文件切割成1秒每块\n",
    " \n",
    "#保存切割的音频到文件\n",
    " \n",
    "for i, chunk in enumerate(chunks):\n",
    "    chunk_name = \"2-{0}.wav\".format(i)\n",
    "    print( 'exporting' , chunk_name)\n",
    "    chunk.export(chunk_name, format=\"wav\")"
   ]
  },
  {
   "cell_type": "code",
   "execution_count": 4,
   "metadata": {},
   "outputs": [
    {
     "ename": "SyntaxError",
     "evalue": "keyword can't be an expression (<ipython-input-4-a0f2a29ee603>, line 15)",
     "output_type": "error",
     "traceback": [
      "\u001b[1;36m  File \u001b[1;32m\"<ipython-input-4-a0f2a29ee603>\"\u001b[1;36m, line \u001b[1;32m15\u001b[0m\n\u001b[1;33m    file_handle =louder.export(filename[0]+'20db' + format=\"wav\")\u001b[0m\n\u001b[1;37m                              ^\u001b[0m\n\u001b[1;31mSyntaxError\u001b[0m\u001b[1;31m:\u001b[0m keyword can't be an expression\n"
     ]
    }
   ],
   "source": [
    "from pydub import AudioSegment\n",
    "\n",
    "import os, re\n",
    "\n",
    "# 循环目录下所有文件\n",
    "for each in os.listdir(r\"C:\\Users\\Leo\\Desktop\\切割音檔\"):\n",
    "    filename = re.findall(r\"(.*?).wav\", each) # 取出.mp3后缀的文件名\n",
    "    if filename:\n",
    "    \n",
    "        filename[0] += '.wav'\n",
    "       # mp3 = AudioSegment.from_mp3(filename[0]) # 打开mp3文件\n",
    "        sound1 = AudioSegment.from_file(filename[0])\n",
    "        louder = sound1 + 20\n",
    "       # output_dir=\"outPut/\"\n",
    "        file_handle =louder.export(filename[0]+'20db' + format=\"wav\")\n"
   ]
  },
  {
   "cell_type": "code",
   "execution_count": 17,
   "metadata": {},
   "outputs": [
    {
     "name": "stdout",
     "output_type": "stream",
     "text": [
      "-16.60670931826357\n"
     ]
    }
   ],
   "source": [
    "from pydub import AudioSegment\n",
    "\n",
    "sound1 = AudioSegment.from_file(\"1-1-db.wav\")\n",
    "loudness = sound1.dBFS\n",
    "#loudness = sound1.rms\n",
    "\n",
    "\n",
    "\n",
    "print(loudness)\n",
    "\n",
    "louder = sound1 + 3\n",
    "\n",
    "\n",
    "file_handle = louder.export(\"2-1-00000db.wav\", format=\"wav\")\n",
    "loudness = louder.dBFS\n",
    "#loudness = louder.rms\n",
    "print(loudness)\n"
   ]
  },
  {
   "cell_type": "code",
   "execution_count": 16,
   "metadata": {},
   "outputs": [
    {
     "name": "stdout",
     "output_type": "stream",
     "text": [
      "3431\n",
      "3431\n"
     ]
    }
   ],
   "source": [
    "from pydub import AudioSegment\n",
    "\n",
    "sound1 = AudioSegment.from_file(\"1-1.wav+3db.wav\")\n",
    "sound2 = AudioSegment.from_file(\"1-1.wav\")\n",
    "loudness = sound1.rms\n",
    "loudness2 = sound2.rms\n",
    "print(loudness)\n",
    "print(loudness2)\n",
    "#louder = sound1 + 3\n",
    "\n",
    "\n",
    "#file_handle = louder.export(\"300.wav\", format=\"wav\")\n",
    "\n",
    "#loudness = louder.rms\n",
    "#print(loudness)\n"
   ]
  },
  {
   "cell_type": "code",
   "execution_count": null,
   "metadata": {},
   "outputs": [],
   "source": []
  }
 ],
 "metadata": {
  "kernelspec": {
   "display_name": "Python 3",
   "language": "python",
   "name": "python3"
  },
  "language_info": {
   "codemirror_mode": {
    "name": "ipython",
    "version": 3
   },
   "file_extension": ".py",
   "mimetype": "text/x-python",
   "name": "python",
   "nbconvert_exporter": "python",
   "pygments_lexer": "ipython3",
   "version": "3.7.5"
  }
 },
 "nbformat": 4,
 "nbformat_minor": 2
}
